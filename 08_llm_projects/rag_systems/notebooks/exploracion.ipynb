{
 "cells": [
  {
   "cell_type": "markdown",
   "metadata": {},
   "source": [
    "# Exploración del Sistema de Clasificación Documental Guiada (RAG)\n",
    "\n",
    "Este notebook te permitirá explorar y entender los componentes principales del sistema RAG para la clasificación de capturas de pantalla según lineamientos en documentos PDF."
   ]
  },
  {
   "cell_type": "code",
   "execution_count": null,
   "metadata": {},
   "source": [
    "# Importaciones necesarias\n",
    "import sys\n",
    "import os\n",
    "from pathlib import Path\n",
    "\n",
    "# Asegurarnos que el módulo principal sea importable\n",
    "sys.path.append(os.path.abspath('..')) \n",
    "\n",
    "# Importar componentes\n",
    "from app.ocr import OCREngine, extract_text_from_image\n",
    "from app.pdf_parser import PDFParser, extract_pdf_content\n",
    "from app.vector_store import VectorStore, create_vector_store_from_pdf\n",
    "from app.rag_engine import LLMProvider, RAGEngine\n",
    "from app.formatter import ResponseFormatter, format_llm_response\n",
    "\n",
    "# Para visualizaciones\n",
    "import matplotlib.pyplot as plt\n",
    "from PIL import Image\n",
    "import pandas as pd\n",
    "import numpy as np"
   ]
  },
  {
   "cell_type": "markdown",
   "metadata": {},
   "source": [
    "## 1. OCR: Procesamiento de Imágenes\n",
    "\n",
    "El primer paso es extraer el texto de una imagen o captura de pantalla utilizando OCR."
   ]
  },
  {
   "cell_type": "code",
   "execution_count": null,
   "metadata": {},
   "source": [
    "# Configura la ruta a tu imagen de prueba\n",
    "imagen_prueba = \"../data/samples/captura_ejemplo.png\"\n",
    "\n",
    "# Visualizar la imagen\n",
    "plt.figure(figsize=(10, 10))\n",
    "plt.imshow(Image.open(imagen_prueba))\n",
    "plt.axis('off')\n",
    "plt.title('Imagen de entrada')\n",
    "plt.show()"
   ]
  },
  {
   "cell_type": "code",
   "execution_count": null,
   "metadata": {},
   "source": [
    "# Inicializar motor OCR y extraer texto\n",
    "ocr = OCREngine(engine=\"doctr\")  # Opciones: \"doctr\" o \"easyocr\"\n",
    "\n",
    "# Procesar imagen\n",
    "resultado_ocr = ocr.process_image(imagen_prueba)\n",
    "\n",
    "# Ver resultado\n",
    "print(f\"Texto extraído con confianza {resultado_ocr['confidence']:.2f}:\\n\")\n",
    "print(resultado_ocr['text'])"
   ]
  },
  {
   "cell_type": "code",
   "execution_count": null,
   "metadata": {},
   "source": [
    "# Ver bloques de texto detectados\n",
    "print(f\"Bloques detectados: {len(resultado_ocr['blocks'])}\")\n",
    "for i, bloque in enumerate(resultado_ocr['blocks'][:5]):\n",
    "    print(f\"\\nBloque {i+1}:\")\n",
    "    print(f\"- Texto: {bloque['text'][:100]}...\" if len(bloque['text']) > 100 else f\"- Texto: {bloque['text']}\")\n",
    "    print(f\"- BBox: {bloque['bbox']}\")\n",
    "    print(f\"- Confianza: {bloque['confidence']:.2f}\")"
   ]
  },
  {
   "cell_type": "markdown",
   "metadata": {},
   "source": [
    "## 2. Procesamiento de PDF y Extracción de Texto\n",
    "\n",
    "El segundo paso es procesar el documento PDF guía y extraer su contenido en chunks."
   ]
  },
  {
   "cell_type": "code",
   "execution_count": null,
   "metadata": {},
   "source": [
    "# Configura la ruta a tu PDF de guía\n",
    "pdf_guia = \"../data/guidelines/guia_ejemplo.pdf\"\n",
    "\n",
    "# Procesar PDF\n",
    "parser = PDFParser()\n",
    "documento = parser.parse_pdf(pdf_guia)\n",
    "\n",
    "# Ver información básica\n",
    "print(f\"Documento: {documento.title}\")\n",
    "print(f\"Autor: {documento.author}\")\n",
    "print(f\"Páginas: {documento.num_pages}\")\n",
    "print(f\"Chunks generados: {len(documento.chunks)}\")"
   ]
  },
  {
   "cell_type": "code",
   "execution_count": null,
   "metadata": {},
   "source": [
    "# Ver tabla de contenido\n",
    "if documento.toc:\n",
    "    print(\"Tabla de Contenido:\")\n",
    "    for item in documento.toc:\n",
    "        nivel = item.get('level', 1)\n",
    "        print(f\"{' ' * (nivel-1)*2}{'#' * nivel} {item.get('title')} (pág. {item.get('page')})\")"
   ]
  },
  {
   "cell_type": "code",
   "execution_count": null,
   "metadata": {},
   "source": [
    "# Explorar los primeros chunks\n",
    "for i, chunk in enumerate(documento.chunks[:3]):\n",
    "    print(f\"\\n--- Chunk {i+1} (Página {chunk.page_number}) ---\")\n",
    "    print(f\"Sección: {chunk.section}\")\n",
    "    print(f\"Subsección: {chunk.subsection}\")\n",
    "    print(f\"Texto: {chunk.text[:200]}...\" if len(chunk.text) > 200 else f\"Texto: {chunk.text}\")"
   ]
  },
  {
   "cell_type": "markdown",
   "metadata": {},
   "source": [
    "## 3. Base de Datos Vectorial\n",
    "\n",
    "El tercer paso es crear y consultar la base de datos vectorial."
   ]
  },
  {
   "cell_type": "code",
   "execution_count": null,
   "metadata": {},
   "source": [
    "# Crear base de datos vectorial\n",
    "vector_store_dir = \"../vector_store\"\n",
    "vector_store, _ = create_vector_store_from_pdf(pdf_guia, vector_store_dir)"
   ]
  },
  {
   "cell_type": "code",
   "execution_count": null,
   "metadata": {},
   "source": [
    "# Ver estadísticas de la base de datos\n",
    "stats = vector_store.get_collection_stats()\n",
    "print(f\"Nombre de colección: {stats.get('collection_name')}\")\n",
    "print(f\"Total de chunks: {stats.get('count')}\")\n",
    "\n",
    "if 'pages' in stats:\n",
    "    print(\"\\nDistribución por páginas:\")\n",
    "    for page, count in sorted(stats['pages'].items()):\n",
    "        print(f\"- Página {page}: {count} chunks\")"
   ]
  },
  {
   "cell_type": "code",
   "execution_count": null,
   "metadata": {},
   "source": [
    "# Probar una consulta semántica\n",
    "consulta = \"¿Cómo clasificar un caso donde aparece un pin mal ubicado en el mapa?\"\n",
    "\n",
    "resultados = vector_store.search(consulta, n_results=3)\n",
    "\n",
    "print(f\"Resultados para: '{consulta}'\\n\")\n",
    "for i, resultado in enumerate(resultados):\n",
    "    print(f\"\\n--- Resultado {i+1} ---\")\n",
    "    print(f\"Score: {resultado['score']:.4f}\")\n",
    "    print(f\"Página: {resultado['metadata'].get('page')}\")\n",
    "    print(f\"Sección: {resultado['metadata'].get('section')}\")\n",
    "    print(f\"Texto:\\n{resultado['text'][:300]}...\" if len(resultado['text']) > 300 else f\"Texto:\\n{resultado['text']}\")"
   ]
  },
  {
   "cell_type": "markdown",
   "metadata": {},
   "source": [
    "## 4. Motor RAG y LLM\n",
    "\n",
    "El cuarto paso es integrar todo en el motor RAG con un LLM local para generar clasificaciones."
   ]
  },
  {
   "cell_type": "code",
   "execution_count": null,
   "metadata": {},
   "source": [
    "# Verificar disponibilidad del modelo local (asegúrate de tener Ollama instalado)\n",
    "try:\n",
    "    llm_provider = LLMProvider(provider=\"ollama\", model_name=\"mistral:7b\")\n",
    "    print(\"LLM inicializado correctamente\")\n",
    "except Exception as e:\n",
    "    print(f\"Error al inicializar LLM: {str(e)}\")\n",
    "    print(\"\\nPara instalar Ollama: https://ollama.ai/\")\n",
    "    print(\"Para descargar el modelo: ollama pull mistral:7b\")"
   ]
  },
  {
   "cell_type": "code",
   "execution_count": null,
   "metadata": {},
   "source": [
    "# Crear motor RAG\n",
    "rag_engine = RAGEngine(\n",
    "    vector_store=vector_store,\n",
    "    llm_provider=llm_provider,\n",
    "    ocr_engine=ocr\n",
    ")"
   ]
  },
  {
   "cell_type": "code",
   "execution_count": null,
   "metadata": {},
   "source": [
    "# Procesar una imagen para clasificación\n",
    "campos = [\"Tipo de caso\", \"Prioridad\", \"Área responsable\"]\n",
    "\n",
    "# Este proceso puede tardar dependiendo del tamaño de la imagen y el modelo LLM\n",
    "resultado = rag_engine.process_image(\n",
    "    image_path=imagen_prueba,\n",
    "    fields_to_classify=campos,\n",
    "    n_results=5\n",
    ")"
   ]
  },
  {
   "cell_type": "code",
   "execution_count": null,
   "metadata": {},
   "source": [
    "# Ver texto extraído\n",
    "print(\"Texto extraído de la imagen:\")\n",
    "print(resultado[\"extracted_text\"][:500] + \"...\" if len(resultado[\"extracted_text\"]) > 500 else resultado[\"extracted_text\"])"
   ]
  },
  {
   "cell_type": "code",
   "execution_count": null,
   "metadata": {},
   "source": [
    "# Ver clasificación generada\n",
    "print(\"\\nClasificación generada por el LLM:\\n\")\n",
    "print(resultado[\"classification\"])"
   ]
  },
  {
   "cell_type": "markdown",
   "metadata": {},
   "source": [
    "## 5. Formateo de Resultados\n",
    "\n",
    "Finalmente, formateamos los resultados en un JSON estructurado."
   ]
  },
  {
   "cell_type": "code",
   "execution_count": null,
   "metadata": {},
   "source": [
    "# Formatear resultados\n",
    "formatter = ResponseFormatter()\n",
    "resultados_formateados = formatter.format_classification_response(resultado[\"classification\"])\n",
    "\n",
    "# Ver resultados formateados\n",
    "import json\n",
    "print(json.dumps(resultados_formateados, indent=2, ensure_ascii=False))"
   ]
  },
  {
   "cell_type": "code",
   "execution_count": null,
   "metadata": {},
   "source": [
    "# Ver clasificaciones en formato tabular\n",
    "if \"clasificaciones\" in resultados_formateados:\n",
    "    df_clasificaciones = pd.DataFrame(resultados_formateados[\"clasificaciones\"])\n",
    "    display(df_clasificaciones[[\"campo\", \"valor\", \"justificación\"]])"
   ]
  },
  {
   "cell_type": "markdown",
   "metadata": {},
   "source": [
    "## 6. Modo Chat con el Documento\n",
    "\n",
    "También puedes consultar directamente el documento guía."
   ]
  },
  {
   "cell_type": "code",
   "execution_count": null,
   "metadata": {},
   "source": [
    "# Realizar una consulta al documento\n",
    "consulta = \"¿Cuáles son los criterios para clasificar un caso como alta prioridad?\"\n",
    "\n",
    "respuesta = rag_engine.chat_with_document(consulta)\n",
    "print(f\"Consulta: {consulta}\\n\")\n",
    "print(f\"Respuesta: {respuesta.get('response')}\")"
   ]
  },
  {
   "cell_type": "code",
   "execution_count": null,
   "metadata": {},
   "source": [
    "# Ver referencias del documento\n",
    "print(\"Referencias del documento:\")\n",
    "for i, chunk in enumerate(respuesta.get(\"context_chunks\", [])):\n",
    "    print(f\"\\n--- Fuente {i+1} (Página {chunk.get('page', 'N/A')}) ---\")\n",
    "    print(chunk.get('text', ''))"
   ]
  },
  {
   "cell_type": "markdown",
   "metadata": {},
   "source": [
    "## Conclusión\n",
    "\n",
    "Este notebook muestra el flujo completo del sistema de clasificación documental guiada:\n",
    "\n",
    "1. Extracción de texto con OCR\n",
    "2. Procesamiento de PDF guía\n",
    "3. Creación de base de datos vectorial\n",
    "4. Recuperación aumentada con LLM\n",
    "5. Generación de clasificaciones estructuradas\n",
    "\n",
    "Para usar el sistema en producción, es recomendable utilizar la interfaz de línea de comandos implementada en `app/main.py`."
   ]
  }
 ],
 "metadata": {
  "kernelspec": {
   "display_name": "Python 3",
   "language": "python",
   "name": "python3"
  },
  "language_info": {
   "codemirror_mode": {
    "name": "ipython",
    "version": 3
   },
   "file_extension": ".py",
   "mimetype": "text/x-python",
   "name": "python",
   "nbconvert_exporter": "python",
   "pygments_lexer": "ipython3",
   "version": "3.9.7"
  }
 },
 "nbformat": 4,
 "nbformat_minor": 4
}
